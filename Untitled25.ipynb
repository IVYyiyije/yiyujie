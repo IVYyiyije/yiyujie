{
 "cells": [
  {
   "cell_type": "code",
   "execution_count": 1,
   "metadata": {
    "collapsed": false
   },
   "outputs": [],
   "source": [
    "from snownlp import SnowNLP"
   ]
  },
  {
   "cell_type": "code",
   "execution_count": 63,
   "metadata": {
    "collapsed": false
   },
   "outputs": [
    {
     "ename": "OSError",
     "evalue": "[Errno 22] Invalid argument: '\\u202aF:/files/chinese_eg.txt'",
     "output_type": "error",
     "traceback": [
      "\u001b[0;31m---------------------------------------------------------------------------\u001b[0m",
      "\u001b[0;31mOSError\u001b[0m                                   Traceback (most recent call last)",
      "\u001b[0;32m<ipython-input-63-d1de1907d8c7>\u001b[0m in \u001b[0;36m<module>\u001b[0;34m()\u001b[0m\n\u001b[0;32m----> 1\u001b[0;31m \u001b[1;32mwith\u001b[0m \u001b[0mopen\u001b[0m\u001b[1;33m(\u001b[0m\u001b[1;34m'‪F:/files/chinese_eg.txt'\u001b[0m\u001b[1;33m)\u001b[0m \u001b[1;32mas\u001b[0m \u001b[0mf\u001b[0m\u001b[1;33m:\u001b[0m\u001b[1;33m\u001b[0m\u001b[0m\n\u001b[0m\u001b[1;32m      2\u001b[0m     \u001b[0mc\u001b[0m\u001b[1;33m=\u001b[0m\u001b[0mf\u001b[0m\u001b[1;33m.\u001b[0m\u001b[0mread\u001b[0m\u001b[1;33m(\u001b[0m\u001b[1;33m)\u001b[0m\u001b[1;33m\u001b[0m\u001b[0m\n\u001b[1;32m      3\u001b[0m \u001b[1;33m\u001b[0m\u001b[0m\n",
      "\u001b[0;31mOSError\u001b[0m: [Errno 22] Invalid argument: '\\u202aF:/files/chinese_eg.txt'"
     ]
    }
   ],
   "source": [
    "with open('‪F:/files/chinese_eg.txt') as f:\n",
    "    c=f.read()\n",
    " \n",
    "s=SnowNLP(c)\n",
    "s #SnowNLP的实例\n",
    "paras=c.split('\\n')  #分段\n",
    "paras\n",
    "snows=[ SnowNLP(para) for para in paras if not para.strip()==u'']\n",
    "sents=[snow.sentences for snow in snows]\n",
    "sents   #分句\n",
    "sents[0]\n",
    "sents[1]\n",
    "sents.__len__()\n",
    "snow=snows[0]\n",
    "dir(snow)  #snow是SnowNLP的实例"
   ]
  },
  {
   "cell_type": "code",
   "execution_count": 82,
   "metadata": {
    "collapsed": false
   },
   "outputs": [
    {
     "name": "stdout",
     "output_type": "stream",
     "text": [
      "‪\n"
     ]
    }
   ],
   "source": [
    "print(u'\\u202a')"
   ]
  },
  {
   "cell_type": "code",
   "execution_count": 3,
   "metadata": {
    "collapsed": true
   },
   "outputs": [],
   "source": [
    "from snownlp import SnowNLP\n",
    "\n",
    "s = SnowNLP(u'这个东西真心很赞')"
   ]
  },
  {
   "cell_type": "code",
   "execution_count": 4,
   "metadata": {
    "collapsed": false
   },
   "outputs": [
    {
     "data": {
      "text/plain": [
       "['这个', '东西', '真心', '很', '赞']"
      ]
     },
     "execution_count": 4,
     "metadata": {},
     "output_type": "execute_result"
    }
   ],
   "source": [
    "s.words"
   ]
  },
  {
   "cell_type": "code",
   "execution_count": 5,
   "metadata": {
    "collapsed": false
   },
   "outputs": [
    {
     "data": {
      "text/plain": [
       "<zip at 0x1b95a744dc8>"
      ]
     },
     "execution_count": 5,
     "metadata": {},
     "output_type": "execute_result"
    }
   ],
   "source": [
    "s.tags"
   ]
  },
  {
   "cell_type": "code",
   "execution_count": 6,
   "metadata": {
    "collapsed": false
   },
   "outputs": [
    {
     "name": "stdout",
     "output_type": "stream",
     "text": [
      "0.9769551298267365\n"
     ]
    }
   ],
   "source": [
    "print(s.sentiments) "
   ]
  },
  {
   "cell_type": "code",
   "execution_count": 7,
   "metadata": {
    "collapsed": false
   },
   "outputs": [
    {
     "name": "stdout",
     "output_type": "stream",
     "text": [
      "['zhe', 'ge', 'dong', 'xi', 'zhen', 'xin', 'hen', 'zan']\n"
     ]
    }
   ],
   "source": [
    "print(s.pinyin)"
   ]
  },
  {
   "cell_type": "code",
   "execution_count": 11,
   "metadata": {
    "collapsed": true
   },
   "outputs": [],
   "source": [
    "from numpy import *"
   ]
  },
  {
   "cell_type": "code",
   "execution_count": 15,
   "metadata": {
    "collapsed": false
   },
   "outputs": [],
   "source": [
    "import numpy as np"
   ]
  },
  {
   "cell_type": "code",
   "execution_count": 16,
   "metadata": {
    "collapsed": true
   },
   "outputs": [],
   "source": [
    "from numpy import array,sin"
   ]
  },
  {
   "cell_type": "code",
   "execution_count": 17,
   "metadata": {
    "collapsed": true
   },
   "outputs": [],
   "source": [
    "a = [1,2,3,4]"
   ]
  },
  {
   "cell_type": "code",
   "execution_count": 19,
   "metadata": {
    "collapsed": false
   },
   "outputs": [],
   "source": [
    "arr = array(a)"
   ]
  },
  {
   "cell_type": "code",
   "execution_count": 20,
   "metadata": {
    "collapsed": false
   },
   "outputs": [
    {
     "data": {
      "text/plain": [
       "array([2, 3, 4, 5])"
      ]
     },
     "execution_count": 20,
     "metadata": {},
     "output_type": "execute_result"
    }
   ],
   "source": [
    "arr+1"
   ]
  },
  {
   "cell_type": "code",
   "execution_count": 21,
   "metadata": {
    "collapsed": false
   },
   "outputs": [
    {
     "data": {
      "text/plain": [
       "array([1, 2, 3, 4])"
      ]
     },
     "execution_count": 21,
     "metadata": {},
     "output_type": "execute_result"
    }
   ],
   "source": [
    "arr"
   ]
  },
  {
   "cell_type": "code",
   "execution_count": 22,
   "metadata": {
    "collapsed": true
   },
   "outputs": [],
   "source": [
    "arr1 = array([35,6,7,8])"
   ]
  },
  {
   "cell_type": "code",
   "execution_count": 23,
   "metadata": {
    "collapsed": false
   },
   "outputs": [
    {
     "data": {
      "text/plain": [
       "array([36,  8, 10, 12])"
      ]
     },
     "execution_count": 23,
     "metadata": {},
     "output_type": "execute_result"
    }
   ],
   "source": [
    "arr+arr1"
   ]
  },
  {
   "cell_type": "code",
   "execution_count": 24,
   "metadata": {
    "collapsed": false
   },
   "outputs": [
    {
     "data": {
      "text/plain": [
       "array([    1,    64,  2187, 65536], dtype=int32)"
      ]
     },
     "execution_count": 24,
     "metadata": {},
     "output_type": "execute_result"
    }
   ],
   "source": [
    "arr**arr1"
   ]
  },
  {
   "cell_type": "code",
   "execution_count": 25,
   "metadata": {
    "collapsed": false
   },
   "outputs": [
    {
     "data": {
      "text/plain": [
       "array([35, 12, 21, 32])"
      ]
     },
     "execution_count": 25,
     "metadata": {},
     "output_type": "execute_result"
    }
   ],
   "source": [
    "arr*arr1"
   ]
  },
  {
   "cell_type": "code",
   "execution_count": 27,
   "metadata": {
    "collapsed": false
   },
   "outputs": [
    {
     "data": {
      "text/plain": [
       "1"
      ]
     },
     "execution_count": 27,
     "metadata": {},
     "output_type": "execute_result"
    }
   ],
   "source": [
    "arr[0]"
   ]
  },
  {
   "cell_type": "code",
   "execution_count": 28,
   "metadata": {
    "collapsed": false
   },
   "outputs": [
    {
     "data": {
      "text/plain": [
       "array([4])"
      ]
     },
     "execution_count": 28,
     "metadata": {},
     "output_type": "execute_result"
    }
   ],
   "source": [
    "arr[3:4]"
   ]
  },
  {
   "cell_type": "code",
   "execution_count": 29,
   "metadata": {
    "collapsed": false
   },
   "outputs": [
    {
     "data": {
      "text/plain": [
       "array([1, 2, 3, 4])"
      ]
     },
     "execution_count": 29,
     "metadata": {},
     "output_type": "execute_result"
    }
   ],
   "source": [
    "arr"
   ]
  },
  {
   "cell_type": "code",
   "execution_count": 30,
   "metadata": {
    "collapsed": false
   },
   "outputs": [
    {
     "data": {
      "text/plain": [
       "(4,)"
      ]
     },
     "execution_count": 30,
     "metadata": {},
     "output_type": "execute_result"
    }
   ],
   "source": [
    "arr.shape"
   ]
  },
  {
   "cell_type": "code",
   "execution_count": 32,
   "metadata": {
    "collapsed": false
   },
   "outputs": [],
   "source": [
    "arr2=array([[2,3],[8,9]])"
   ]
  },
  {
   "cell_type": "code",
   "execution_count": 33,
   "metadata": {
    "collapsed": false
   },
   "outputs": [
    {
     "data": {
      "text/plain": [
       "(2, 2)"
      ]
     },
     "execution_count": 33,
     "metadata": {},
     "output_type": "execute_result"
    }
   ],
   "source": [
    "arr2.shape"
   ]
  },
  {
   "cell_type": "code",
   "execution_count": 34,
   "metadata": {
    "collapsed": false
   },
   "outputs": [
    {
     "data": {
      "text/plain": [
       "array([2, 4, 6, 8])"
      ]
     },
     "execution_count": 34,
     "metadata": {},
     "output_type": "execute_result"
    }
   ],
   "source": [
    "arr+arr"
   ]
  },
  {
   "cell_type": "code",
   "execution_count": 35,
   "metadata": {
    "collapsed": true
   },
   "outputs": [],
   "source": [
    "arr.shape=2,2"
   ]
  },
  {
   "cell_type": "code",
   "execution_count": 36,
   "metadata": {
    "collapsed": false
   },
   "outputs": [
    {
     "data": {
      "text/plain": [
       "array([[1, 2],\n",
       "       [3, 4]])"
      ]
     },
     "execution_count": 36,
     "metadata": {},
     "output_type": "execute_result"
    }
   ],
   "source": [
    "arr"
   ]
  },
  {
   "cell_type": "code",
   "execution_count": 37,
   "metadata": {
    "collapsed": true
   },
   "outputs": [],
   "source": [
    "import numpy as np"
   ]
  },
  {
   "cell_type": "code",
   "execution_count": 39,
   "metadata": {
    "collapsed": false
   },
   "outputs": [],
   "source": [
    "import matplotlib.pyplot as plt"
   ]
  },
  {
   "cell_type": "code",
   "execution_count": 40,
   "metadata": {
    "collapsed": false
   },
   "outputs": [
    {
     "data": {
      "text/plain": [
       "array([  1.,   2.,   3.,   4.,   5.,   6.,   7.,   8.,   9.,  10.])"
      ]
     },
     "execution_count": 40,
     "metadata": {},
     "output_type": "execute_result"
    }
   ],
   "source": [
    "linspace(1,10,10)"
   ]
  },
  {
   "cell_type": "code",
   "execution_count": 41,
   "metadata": {
    "collapsed": false
   },
   "outputs": [
    {
     "data": {
      "text/plain": [
       "array([  1.        ,   1.47368421,   1.94736842,   2.42105263,\n",
       "         2.89473684,   3.36842105,   3.84210526,   4.31578947,\n",
       "         4.78947368,   5.26315789,   5.73684211,   6.21052632,\n",
       "         6.68421053,   7.15789474,   7.63157895,   8.10526316,\n",
       "         8.57894737,   9.05263158,   9.52631579,  10.        ])"
      ]
     },
     "execution_count": 41,
     "metadata": {},
     "output_type": "execute_result"
    }
   ],
   "source": [
    "linspace(1,10,20)"
   ]
  },
  {
   "cell_type": "code",
   "execution_count": 42,
   "metadata": {
    "collapsed": false
   },
   "outputs": [
    {
     "data": {
      "text/plain": [
       "array([  1.        ,   3.11111111,   5.22222222,   7.33333333,\n",
       "         9.44444444,  11.55555556,  13.66666667,  15.77777778,\n",
       "        17.88888889,  20.        ])"
      ]
     },
     "execution_count": 42,
     "metadata": {},
     "output_type": "execute_result"
    }
   ],
   "source": [
    "linspace(1,20,10)"
   ]
  },
  {
   "cell_type": "code",
   "execution_count": 43,
   "metadata": {
    "collapsed": true
   },
   "outputs": [],
   "source": [
    "a=linspace(0,2*pi,21)"
   ]
  },
  {
   "cell_type": "code",
   "execution_count": 44,
   "metadata": {
    "collapsed": false
   },
   "outputs": [
    {
     "data": {
      "text/plain": [
       "array([ 0.        ,  0.31415927,  0.62831853,  0.9424778 ,  1.25663706,\n",
       "        1.57079633,  1.88495559,  2.19911486,  2.51327412,  2.82743339,\n",
       "        3.14159265,  3.45575192,  3.76991118,  4.08407045,  4.39822972,\n",
       "        4.71238898,  5.02654825,  5.34070751,  5.65486678,  5.96902604,\n",
       "        6.28318531])"
      ]
     },
     "execution_count": 44,
     "metadata": {},
     "output_type": "execute_result"
    }
   ],
   "source": [
    "a"
   ]
  },
  {
   "cell_type": "code",
   "execution_count": 45,
   "metadata": {
    "collapsed": true
   },
   "outputs": [],
   "source": [
    "from numpy import sin"
   ]
  },
  {
   "cell_type": "code",
   "execution_count": 46,
   "metadata": {
    "collapsed": true
   },
   "outputs": [],
   "source": [
    "x=linspace(0,2*pi,21)"
   ]
  },
  {
   "cell_type": "code",
   "execution_count": 47,
   "metadata": {
    "collapsed": true
   },
   "outputs": [],
   "source": [
    "y=sin(x)"
   ]
  },
  {
   "cell_type": "code",
   "execution_count": 49,
   "metadata": {
    "collapsed": false
   },
   "outputs": [
    {
     "data": {
      "text/plain": [
       "array([  0.00000000e+00,   3.09016994e-01,   5.87785252e-01,\n",
       "         8.09016994e-01,   9.51056516e-01,   1.00000000e+00,\n",
       "         9.51056516e-01,   8.09016994e-01,   5.87785252e-01,\n",
       "         3.09016994e-01,   1.22464680e-16,  -3.09016994e-01,\n",
       "        -5.87785252e-01,  -8.09016994e-01,  -9.51056516e-01,\n",
       "        -1.00000000e+00,  -9.51056516e-01,  -8.09016994e-01,\n",
       "        -5.87785252e-01,  -3.09016994e-01,  -2.44929360e-16])"
      ]
     },
     "execution_count": 49,
     "metadata": {},
     "output_type": "execute_result"
    }
   ],
   "source": [
    "y"
   ]
  },
  {
   "cell_type": "code",
   "execution_count": 50,
   "metadata": {
    "collapsed": false
   },
   "outputs": [
    {
     "data": {
      "text/plain": [
       "[<matplotlib.lines.Line2D at 0x1b961a01048>]"
      ]
     },
     "execution_count": 50,
     "metadata": {},
     "output_type": "execute_result"
    }
   ],
   "source": [
    "plt.plot(x,y)"
   ]
  },
  {
   "cell_type": "code",
   "execution_count": 51,
   "metadata": {
    "collapsed": false
   },
   "outputs": [
    {
     "data": {
      "image/png": "[encoded data removed]",
      "text/plain": [
       "<matplotlib.figure.Figure at 0x1b961952a20>"
      ]
     },
     "metadata": {},
     "output_type": "display_data"
    }
   ],
   "source": [
    "plt.show()"
   ]
  },
  {
   "cell_type": "code",
   "execution_count": 52,
   "metadata": {
    "collapsed": true
   },
   "outputs": [],
   "source": [
    "%matplotlib inline"
   ]
  },
  {
   "cell_type": "code",
   "execution_count": 54,
   "metadata": {
    "collapsed": false
   },
   "outputs": [],
   "source": [
    "from numpy import sin"
   ]
  },
  {
   "cell_type": "code",
   "execution_count": 73,
   "metadata": {
    "collapsed": true
   },
   "outputs": [],
   "source": [
    "from numpy import *"
   ]
  },
  {
   "cell_type": "code",
   "execution_count": null,
   "metadata": {
    "collapsed": true
   },
   "outputs": [],
   "source": []
  },
  {
   "cell_type": "code",
   "execution_count": 57,
   "metadata": {
    "collapsed": false
   },
   "outputs": [],
   "source": [
    "import matplotlib.pyplot as plt"
   ]
  },
  {
   "cell_type": "code",
   "execution_count": 58,
   "metadata": {
    "collapsed": false
   },
   "outputs": [
    {
     "data": {
      "text/plain": [
       "[<matplotlib.lines.Line2D at 0x1b961e12e80>]"
      ]
     },
     "execution_count": 58,
     "metadata": {},
     "output_type": "execute_result"
    },
    {
     "data": {
      "image/png": "[encoded data removed]",
      "text/plain": [
       "<matplotlib.figure.Figure at 0x1b95a76c080>"
      ]
     },
     "metadata": {},
     "output_type": "display_data"
    }
   ],
   "source": [
    "plt.plot(x,y,'bo')"
   ]
  },
  {
   "cell_type": "code",
   "execution_count": 77,
   "metadata": {
    "collapsed": false
   },
   "outputs": [],
   "source": [
    "from numpy import *\n",
    "x = random.rand(200)\n",
    "y = random.rand(200)"
   ]
  },
  {
   "cell_type": "code",
   "execution_count": null,
   "metadata": {
    "collapsed": true
   },
   "outputs": [],
   "source": []
  },
  {
   "cell_type": "code",
   "execution_count": 78,
   "metadata": {
    "collapsed": true
   },
   "outputs": [],
   "source": [
    "size=random.rand(200)*30"
   ]
  },
  {
   "cell_type": "code",
   "execution_count": null,
   "metadata": {
    "collapsed": true
   },
   "outputs": [],
   "source": []
  },
  {
   "cell_type": "code",
   "execution_count": 79,
   "metadata": {
    "collapsed": false
   },
   "outputs": [
    {
     "data": {
      "text/plain": [
       "<function matplotlib.pyplot.colorbar>"
      ]
     },
     "execution_count": 79,
     "metadata": {},
     "output_type": "execute_result"
    },
    {
     "data": {
      "image/png": "[encoded data removed]",
      "text/plain": [
       "<matplotlib.figure.Figure at 0x1b9621ae0b8>"
      ]
     },
     "metadata": {},
     "output_type": "display_data"
    }
   ],
   "source": [
    "color = random.rand(200)\n",
    "plt.scatter(x,y,size,color)\n",
    "plt.colorbar"
   ]
  },
  {
   "cell_type": "code",
   "execution_count": 60,
   "metadata": {
    "collapsed": false
   },
   "outputs": [
    {
     "name": "stdout",
     "output_type": "stream",
     "text": [
      "Help on function scatter in module matplotlib.pyplot:\n",
      "\n",
      "scatter(x, y, s=None, c=None, marker=None, cmap=None, norm=None, vmin=None, vmax=None, alpha=None, linewidths=None, verts=None, edgecolors=None, hold=None, data=None, **kwargs)\n",
      "    Make a scatter plot of `x` vs `y`\n",
      "    \n",
      "    Marker size is scaled by `s` and marker color is mapped to `c`\n",
      "    \n",
      "    Parameters\n",
      "    ----------\n",
      "    x, y : array_like, shape (n, )\n",
      "        Input data\n",
      "    \n",
      "    s : scalar or array_like, shape (n, ), optional\n",
      "        size in points^2.  Default is `rcParams['lines.markersize'] ** 2`.\n",
      "    \n",
      "    c : color, sequence, or sequence of color, optional, default: 'b'\n",
      "        `c` can be a single color format string, or a sequence of color\n",
      "        specifications of length `N`, or a sequence of `N` numbers to be\n",
      "        mapped to colors using the `cmap` and `norm` specified via kwargs\n",
      "        (see below). Note that `c` should not be a single numeric RGB or\n",
      "        RGBA sequence because that is indistinguishable from an array of\n",
      "        values to be colormapped.  `c` can be a 2-D array in which the\n",
      "        rows are RGB or RGBA, however, including the case of a single\n",
      "        row to specify the same color for all points.\n",
      "    \n",
      "    marker : `~matplotlib.markers.MarkerStyle`, optional, default: 'o'\n",
      "        See `~matplotlib.markers` for more information on the different\n",
      "        styles of markers scatter supports. `marker` can be either\n",
      "        an instance of the class or the text shorthand for a particular\n",
      "        marker.\n",
      "    \n",
      "    cmap : `~matplotlib.colors.Colormap`, optional, default: None\n",
      "        A `~matplotlib.colors.Colormap` instance or registered name.\n",
      "        `cmap` is only used if `c` is an array of floats. If None,\n",
      "        defaults to rc `image.cmap`.\n",
      "    \n",
      "    norm : `~matplotlib.colors.Normalize`, optional, default: None\n",
      "        A `~matplotlib.colors.Normalize` instance is used to scale\n",
      "        luminance data to 0, 1. `norm` is only used if `c` is an array of\n",
      "        floats. If `None`, use the default :func:`normalize`.\n",
      "    \n",
      "    vmin, vmax : scalar, optional, default: None\n",
      "        `vmin` and `vmax` are used in conjunction with `norm` to normalize\n",
      "        luminance data.  If either are `None`, the min and max of the\n",
      "        color array is used.  Note if you pass a `norm` instance, your\n",
      "        settings for `vmin` and `vmax` will be ignored.\n",
      "    \n",
      "    alpha : scalar, optional, default: None\n",
      "        The alpha blending value, between 0 (transparent) and 1 (opaque)\n",
      "    \n",
      "    linewidths : scalar or array_like, optional, default: None\n",
      "        If None, defaults to (lines.linewidth,).\n",
      "    \n",
      "    verts : sequence of (x, y), optional\n",
      "        If `marker` is None, these vertices will be used to\n",
      "        construct the marker.  The center of the marker is located\n",
      "        at (0,0) in normalized units.  The overall marker is rescaled\n",
      "        by ``s``.\n",
      "    \n",
      "    edgecolors : color or sequence of color, optional, default: None\n",
      "        If None, defaults to 'face'\n",
      "    \n",
      "        If 'face', the edge color will always be the same as\n",
      "        the face color.\n",
      "    \n",
      "        If it is 'none', the patch boundary will not\n",
      "        be drawn.\n",
      "    \n",
      "        For non-filled markers, the `edgecolors` kwarg\n",
      "        is ignored and forced to 'face' internally.\n",
      "    \n",
      "    Returns\n",
      "    -------\n",
      "    paths : `~matplotlib.collections.PathCollection`\n",
      "    \n",
      "    Other parameters\n",
      "    ----------------\n",
      "    kwargs : `~matplotlib.collections.Collection` properties\n",
      "    \n",
      "    See Also\n",
      "    --------\n",
      "    plot : to plot scatter plots when markers are identical in size and\n",
      "        color\n",
      "    \n",
      "    Notes\n",
      "    -----\n",
      "    \n",
      "    * The `plot` function will be faster for scatterplots where markers\n",
      "      don't vary in size or color.\n",
      "    \n",
      "    * Any or all of `x`, `y`, `s`, and `c` may be masked arrays, in which\n",
      "      case all masks will be combined and only unmasked points will be\n",
      "      plotted.\n",
      "    \n",
      "      Fundamentally, scatter works with 1-D arrays; `x`, `y`, `s`, and `c`\n",
      "      may be input as 2-D arrays, but within scatter they will be\n",
      "      flattened. The exception is `c`, which will be flattened only if its\n",
      "      size matches the size of `x` and `y`.\n",
      "    \n",
      "    Examples\n",
      "    --------\n",
      "    .. plot:: mpl_examples/shapes_and_collections/scatter_demo.py\n",
      "    \n",
      "    .. note::\n",
      "        In addition to the above described arguments, this function can take a\n",
      "        **data** keyword argument. If such a **data** argument is given, the\n",
      "        following arguments are replaced by **data[<arg>]**:\n",
      "    \n",
      "        * All arguments with the following names: 'c', 'color', 'edgecolors', 'facecolor', 'facecolors', 'linewidths', 's', 'x', 'y'.\n",
      "\n"
     ]
    }
   ],
   "source": [
    "help(plt.scatter)"
   ]
  },
  {
   "cell_type": "code",
   "execution_count": null,
   "metadata": {
    "collapsed": true
   },
   "outputs": [],
   "source": [
    "plt.scatter"
   ]
  },
  {
   "cell_type": "code",
   "execution_count": null,
   "metadata": {
    "collapsed": true
   },
   "outputs": [],
   "source": []
  },
  {
   "cell_type": "code",
   "execution_count": 83,
   "metadata": {
    "collapsed": false
   },
   "outputs": [
    {
     "ename": "OSError",
     "evalue": "[Errno 22] Invalid argument: '\\u202aF:/files/chinese_eg.txt'",
     "output_type": "error",
     "traceback": [
      "\u001b[0;31m---------------------------------------------------------------------------\u001b[0m",
      "\u001b[0;31mOSError\u001b[0m                                   Traceback (most recent call last)",
      "\u001b[0;32m<ipython-input-83-7038fb2e4c9a>\u001b[0m in \u001b[0;36m<module>\u001b[0;34m()\u001b[0m\n\u001b[0;32m----> 1\u001b[0;31m \u001b[1;32mwith\u001b[0m \u001b[0mopen\u001b[0m\u001b[1;33m(\u001b[0m\u001b[1;34m'‪F:/files/chinese_eg.txt'\u001b[0m\u001b[1;33m)\u001b[0m \u001b[1;32mas\u001b[0m \u001b[0mf\u001b[0m\u001b[1;33m:\u001b[0m\u001b[1;33m\u001b[0m\u001b[0m\n\u001b[0m\u001b[1;32m      2\u001b[0m     \u001b[0mc\u001b[0m\u001b[1;33m=\u001b[0m\u001b[0mf\u001b[0m\u001b[1;33m.\u001b[0m\u001b[0mread\u001b[0m\u001b[1;33m(\u001b[0m\u001b[1;33m)\u001b[0m\u001b[1;33m\u001b[0m\u001b[0m\n",
      "\u001b[0;31mOSError\u001b[0m: [Errno 22] Invalid argument: '\\u202aF:/files/chinese_eg.txt'"
     ]
    }
   ],
   "source": [
    "with open('‪F:/files/chinese_eg.txt') as f:\n",
    "    c=f.read()"
   ]
  },
  {
   "cell_type": "code",
   "execution_count": 84,
   "metadata": {
    "collapsed": true
   },
   "outputs": [],
   "source": [
    "with open('F:\\\\files\\\\chinese_eg.txt') as f:\n",
    "    c=f.read()"
   ]
  },
  {
   "cell_type": "code",
   "execution_count": 85,
   "metadata": {
    "collapsed": false
   },
   "outputs": [
    {
     "data": {
      "text/plain": [
       "'用1800首诗表白，用无人机求婚 南航学霸上演浪漫“求婚大作战”\\n\\n3月28号下午，一次求婚大作战在南京航空航天大学师生的朋友圈刷屏了。在朝夕相处的实验楼下，伴着好友老师的祝福和数百校友的助阵，南航自动化学院即将毕业的硕士研究生徐智成用无人机向相恋1896天的女友张瑶佳成功求婚，而徐智成坚持了5年的写诗表白在南航早已传为佳话。\\n\\n\\u3000\\u3000与君初相识，诗词抒情意\\n\\n刷屏的求婚故事男主角是南航自动化学院的徐智成，女主角则是自动化学院的博士生张瑶佳。徐智成告诉记者，本科同在一个班级的他们刚开始并不相熟，张瑶佳是班里的学霸，而他的学习却不出众。徐智成还记得，大一夏天，张瑶佳偶然在他写的诗下评论了几句，简单的几句却让他产生了共鸣，心里对张瑶佳默默生出了好感。“为了接近她，我常常找各种学习问题向她请教。我本来上课常坐教室后排的，为了追她从此只坐在教室前排，因为学习是她的追求，志同方能道合。”相知相守中，徐智成终于渐渐俘获了张瑶佳的芳心。\\n\\n大二放寒假的前一天，徐智成向张瑶佳表白了，“你喜欢读诗，以后在一起的每一天我都会为你写一首诗。”张瑶佳本以为这句话只是一时的浪漫，没想到竟坚持到现在，1800多天下来，他们之间已经保留下了1800多首小诗，这些小诗见证着他们的爱情一天天成长。\\n\\n\\u3000\\u3000爱在实验室，浪漫也未缺\\n\\n张瑶佳凭借优异的成绩获得了直博的资格，徐智成为了能赶上女友的脚步，多陪她几年，大三一年辛苦复习，终于考上了南航的研究生。研究生与博士生的恋爱，自然不能像普通情侣一样花前月下消磨时间。没有课后的电影，缺少周末的约会，他们有的只是实验室里的相互陪伴，可是张瑶佳却甘之如饴，“我的所有软件都是他给我装的，很多文献资料都是他给我找到和翻译的，笨重的工作台也都是他给我装好的。我们走在路上，吃饭时，都会一起讨论问题，对我来说这就是浪漫啊！”\\n\\n作为博士生，张瑶佳的科研任务要重一些，为了能让她更多时间花在科研上，徐智成承包了很多生活上的琐事，他说：“她有时候开会很晚或者我有事出去，我会提前买好饭给她带到实验室。每天都从博园接送到实验室，不论多早或多晚。放假的时候，都会去车站接送。”\\n\\n无人机求婚，用诗词表白\\n\\n为了在毕业前能实现求婚，徐智成从寒假就开始策划求婚计划，他查了很多求婚的例子，但都觉得很俗套。他想，他们是相识于南航，相爱于南航，成长于南航，求婚也一定要契合学校浓厚的航空航天氛围，他决定采用无人机求婚，正巧他自动化专业的同学正在研究无人机项目。最后，他决定结合南航的校园文化，使用同学亲自研制的无人机求婚，当然还有精心准备的求婚气球和诗词表白。\\n\\n写1800首诗求婚\\n\\n无人机带着钻戒求婚\\n\\n当他们到达求婚现场，张瑶佳看到学院楼前的求婚气球，在11位朋友念出的诗词表白中，流下了幸福的眼泪。而当无人机带着钻戒缓缓降落，心里更是感动不已：“这就是我想要的！”她告诉记者，由于自己心中一直有一个航空航天的梦想，所以报考了南航，男友使用无人机求婚非常打动她。\\n\\n下周徐智成就要正式入职了，为了能够陪在女友身边，他放弃了上海、杭州等城市大公司的offer，选择留在了南京。张瑶佳觉得有些可惜，但徐智成却无怨无悔，“或许放弃了一些，才会得到更多。”'"
      ]
     },
     "execution_count": 85,
     "metadata": {},
     "output_type": "execute_result"
    }
   ],
   "source": [
    "c"
   ]
  },
  {
   "cell_type": "code",
   "execution_count": 89,
   "metadata": {
    "collapsed": false
   },
   "outputs": [
    {
     "data": {
      "text/plain": [
       "['用1800首诗表白，用无人机求婚 南航学霸上演浪漫“求婚大作战”',\n",
       " '',\n",
       " '3月28号下午，一次求婚大作战在南京航空航天大学师生的朋友圈刷屏了。在朝夕相处的实验楼下，伴着好友老师的祝福和数百校友的助阵，南航自动化学院即将毕业的硕士研究生徐智成用无人机向相恋1896天的女友张瑶佳成功求婚，而徐智成坚持了5年的写诗表白在南航早已传为佳话。',\n",
       " '',\n",
       " '\\u3000\\u3000与君初相识，诗词抒情意',\n",
       " '',\n",
       " '刷屏的求婚故事男主角是南航自动化学院的徐智成，女主角则是自动化学院的博士生张瑶佳。徐智成告诉记者，本科同在一个班级的他们刚开始并不相熟，张瑶佳是班里的学霸，而他的学习却不出众。徐智成还记得，大一夏天，张瑶佳偶然在他写的诗下评论了几句，简单的几句却让他产生了共鸣，心里对张瑶佳默默生出了好感。“为了接近她，我常常找各种学习问题向她请教。我本来上课常坐教室后排的，为了追她从此只坐在教室前排，因为学习是她的追求，志同方能道合。”相知相守中，徐智成终于渐渐俘获了张瑶佳的芳心。',\n",
       " '',\n",
       " '大二放寒假的前一天，徐智成向张瑶佳表白了，“你喜欢读诗，以后在一起的每一天我都会为你写一首诗。”张瑶佳本以为这句话只是一时的浪漫，没想到竟坚持到现在，1800多天下来，他们之间已经保留下了1800多首小诗，这些小诗见证着他们的爱情一天天成长。',\n",
       " '',\n",
       " '\\u3000\\u3000爱在实验室，浪漫也未缺',\n",
       " '',\n",
       " '张瑶佳凭借优异的成绩获得了直博的资格，徐智成为了能赶上女友的脚步，多陪她几年，大三一年辛苦复习，终于考上了南航的研究生。研究生与博士生的恋爱，自然不能像普通情侣一样花前月下消磨时间。没有课后的电影，缺少周末的约会，他们有的只是实验室里的相互陪伴，可是张瑶佳却甘之如饴，“我的所有软件都是他给我装的，很多文献资料都是他给我找到和翻译的，笨重的工作台也都是他给我装好的。我们走在路上，吃饭时，都会一起讨论问题，对我来说这就是浪漫啊！”',\n",
       " '',\n",
       " '作为博士生，张瑶佳的科研任务要重一些，为了能让她更多时间花在科研上，徐智成承包了很多生活上的琐事，他说：“她有时候开会很晚或者我有事出去，我会提前买好饭给她带到实验室。每天都从博园接送到实验室，不论多早或多晚。放假的时候，都会去车站接送。”',\n",
       " '',\n",
       " '无人机求婚，用诗词表白',\n",
       " '',\n",
       " '为了在毕业前能实现求婚，徐智成从寒假就开始策划求婚计划，他查了很多求婚的例子，但都觉得很俗套。他想，他们是相识于南航，相爱于南航，成长于南航，求婚也一定要契合学校浓厚的航空航天氛围，他决定采用无人机求婚，正巧他自动化专业的同学正在研究无人机项目。最后，他决定结合南航的校园文化，使用同学亲自研制的无人机求婚，当然还有精心准备的求婚气球和诗词表白。',\n",
       " '',\n",
       " '写1800首诗求婚',\n",
       " '',\n",
       " '无人机带着钻戒求婚',\n",
       " '',\n",
       " '当他们到达求婚现场，张瑶佳看到学院楼前的求婚气球，在11位朋友念出的诗词表白中，流下了幸福的眼泪。而当无人机带着钻戒缓缓降落，心里更是感动不已：“这就是我想要的！”她告诉记者，由于自己心中一直有一个航空航天的梦想，所以报考了南航，男友使用无人机求婚非常打动她。',\n",
       " '',\n",
       " '下周徐智成就要正式入职了，为了能够陪在女友身边，他放弃了上海、杭州等城市大公司的offer，选择留在了南京。张瑶佳觉得有些可惜，但徐智成却无怨无悔，“或许放弃了一些，才会得到更多。”']"
      ]
     },
     "execution_count": 89,
     "metadata": {},
     "output_type": "execute_result"
    }
   ],
   "source": [
    "s=SnowNLP(c)\n",
    "s #SnowNLP的实例\n",
    "paras=c.split('\\n')  #分段\n",
    "paras\n"
   ]
  },
  {
   "cell_type": "code",
   "execution_count": 87,
   "metadata": {
    "collapsed": false
   },
   "outputs": [
    {
     "data": {
      "text/plain": [
       "['用',\n",
       " '1800',\n",
       " '首',\n",
       " '诗',\n",
       " '表',\n",
       " '白',\n",
       " '，',\n",
       " '用',\n",
       " '无',\n",
       " '人',\n",
       " '机',\n",
       " '求婚',\n",
       " '南航',\n",
       " '学',\n",
       " '霸',\n",
       " '上演',\n",
       " '浪漫',\n",
       " '“',\n",
       " '求婚',\n",
       " '大',\n",
       " '作战',\n",
       " '”',\n",
       " '3',\n",
       " '月',\n",
       " '28',\n",
       " '号',\n",
       " '下午',\n",
       " '，',\n",
       " '一',\n",
       " '次',\n",
       " '求婚',\n",
       " '大',\n",
       " '作战',\n",
       " '在',\n",
       " '南京',\n",
       " '航空',\n",
       " '航天',\n",
       " '大学',\n",
       " '师生',\n",
       " '的',\n",
       " '朋友',\n",
       " '圈',\n",
       " '刷',\n",
       " '屏',\n",
       " '了',\n",
       " '。',\n",
       " '在',\n",
       " '朝夕相处',\n",
       " '的',\n",
       " '实验',\n",
       " '楼下',\n",
       " '，',\n",
       " '伴',\n",
       " '着',\n",
       " '好友',\n",
       " '老师',\n",
       " '的',\n",
       " '祝福',\n",
       " '和',\n",
       " '数百',\n",
       " '校友',\n",
       " '的',\n",
       " '助阵',\n",
       " '，',\n",
       " '南航',\n",
       " '自动化',\n",
       " '学院',\n",
       " '即将',\n",
       " '毕业',\n",
       " '的',\n",
       " '硕士',\n",
       " '研究生',\n",
       " '徐',\n",
       " '智',\n",
       " '成用',\n",
       " '无',\n",
       " '人机',\n",
       " '向',\n",
       " '相恋',\n",
       " '1896',\n",
       " '天',\n",
       " '的',\n",
       " '女友',\n",
       " '张',\n",
       " '瑶',\n",
       " '佳',\n",
       " '成功',\n",
       " '求婚',\n",
       " '，',\n",
       " '而',\n",
       " '徐',\n",
       " '智',\n",
       " '成',\n",
       " '坚持',\n",
       " '了',\n",
       " '5',\n",
       " '年',\n",
       " '的',\n",
       " '写',\n",
       " '诗',\n",
       " '表白',\n",
       " '在',\n",
       " '南航',\n",
       " '早已',\n",
       " '传为佳话',\n",
       " '。',\n",
       " '与',\n",
       " '君初',\n",
       " '相识',\n",
       " '，',\n",
       " '诗词',\n",
       " '抒情',\n",
       " '意',\n",
       " '刷屏',\n",
       " '的',\n",
       " '求婚',\n",
       " '故事',\n",
       " '男',\n",
       " '主角',\n",
       " '是',\n",
       " '南航',\n",
       " '自动化',\n",
       " '学院',\n",
       " '的',\n",
       " '徐',\n",
       " '智',\n",
       " '成',\n",
       " '，',\n",
       " '女',\n",
       " '主角',\n",
       " '则',\n",
       " '是',\n",
       " '自动化',\n",
       " '学院',\n",
       " '的',\n",
       " '博士生',\n",
       " '张',\n",
       " '瑶',\n",
       " '佳',\n",
       " '。',\n",
       " '徐',\n",
       " '智',\n",
       " '成',\n",
       " '告诉',\n",
       " '记者',\n",
       " '，',\n",
       " '本科',\n",
       " '同',\n",
       " '在',\n",
       " '一个',\n",
       " '班级',\n",
       " '的',\n",
       " '他们',\n",
       " '刚',\n",
       " '开始',\n",
       " '并',\n",
       " '不',\n",
       " '相',\n",
       " '熟',\n",
       " '，',\n",
       " '张',\n",
       " '瑶',\n",
       " '佳',\n",
       " '是',\n",
       " '班',\n",
       " '里',\n",
       " '的',\n",
       " '学',\n",
       " '霸',\n",
       " '，',\n",
       " '而',\n",
       " '他',\n",
       " '的',\n",
       " '学习',\n",
       " '却',\n",
       " '不',\n",
       " '出',\n",
       " '众',\n",
       " '。',\n",
       " '徐',\n",
       " '智成',\n",
       " '还',\n",
       " '记得',\n",
       " '，',\n",
       " '大',\n",
       " '一',\n",
       " '夏天',\n",
       " '，',\n",
       " '张',\n",
       " '瑶',\n",
       " '佳',\n",
       " '偶然',\n",
       " '在',\n",
       " '他',\n",
       " '写',\n",
       " '的',\n",
       " '诗',\n",
       " '下',\n",
       " '评论',\n",
       " '了',\n",
       " '几',\n",
       " '句',\n",
       " '，',\n",
       " '简单',\n",
       " '的',\n",
       " '几',\n",
       " '句',\n",
       " '却',\n",
       " '让',\n",
       " '他',\n",
       " '产生',\n",
       " '了',\n",
       " '共鸣',\n",
       " '，',\n",
       " '心里',\n",
       " '对',\n",
       " '张',\n",
       " '瑶',\n",
       " '佳',\n",
       " '默默',\n",
       " '生',\n",
       " '出',\n",
       " '了',\n",
       " '好感',\n",
       " '。“',\n",
       " '为了',\n",
       " '接近',\n",
       " '她',\n",
       " '，',\n",
       " '我',\n",
       " '常常',\n",
       " '找',\n",
       " '各种',\n",
       " '学习',\n",
       " '问题',\n",
       " '向',\n",
       " '她',\n",
       " '请教',\n",
       " '。',\n",
       " '我',\n",
       " '本来',\n",
       " '上课',\n",
       " '常',\n",
       " '坐',\n",
       " '教室',\n",
       " '后排',\n",
       " '的',\n",
       " '，',\n",
       " '为了',\n",
       " '追',\n",
       " '她',\n",
       " '从此',\n",
       " '只',\n",
       " '坐',\n",
       " '在',\n",
       " '教室',\n",
       " '前排',\n",
       " '，',\n",
       " '因为',\n",
       " '学习',\n",
       " '是',\n",
       " '她',\n",
       " '的',\n",
       " '追求',\n",
       " '，',\n",
       " '志同',\n",
       " '方',\n",
       " '能道合',\n",
       " '。”',\n",
       " '相',\n",
       " '知',\n",
       " '相守',\n",
       " '中',\n",
       " '，',\n",
       " '徐',\n",
       " '智成',\n",
       " '终于',\n",
       " '渐渐',\n",
       " '俘获',\n",
       " '了',\n",
       " '张',\n",
       " '瑶佳',\n",
       " '的',\n",
       " '芳心',\n",
       " '。',\n",
       " '大二',\n",
       " '放',\n",
       " '寒假',\n",
       " '的',\n",
       " '前一天',\n",
       " '，',\n",
       " '徐',\n",
       " '智',\n",
       " '成',\n",
       " '向',\n",
       " '张',\n",
       " '瑶佳',\n",
       " '表白',\n",
       " '了',\n",
       " '，“',\n",
       " '你',\n",
       " '喜欢',\n",
       " '读',\n",
       " '诗',\n",
       " '，',\n",
       " '以后',\n",
       " '在',\n",
       " '一起',\n",
       " '的',\n",
       " '每',\n",
       " '一',\n",
       " '天',\n",
       " '我',\n",
       " '都',\n",
       " '会',\n",
       " '为',\n",
       " '你',\n",
       " '写',\n",
       " '一',\n",
       " '首',\n",
       " '诗',\n",
       " '。”',\n",
       " '张',\n",
       " '瑶',\n",
       " '佳',\n",
       " '本',\n",
       " '以为',\n",
       " '这',\n",
       " '句',\n",
       " '话',\n",
       " '只',\n",
       " '是',\n",
       " '一时',\n",
       " '的',\n",
       " '浪漫',\n",
       " '，',\n",
       " '没',\n",
       " '想到',\n",
       " '竟',\n",
       " '坚持',\n",
       " '到',\n",
       " '现在',\n",
       " '，1800',\n",
       " '多',\n",
       " '天',\n",
       " '下来',\n",
       " '，',\n",
       " '他们',\n",
       " '之间',\n",
       " '已经',\n",
       " '保',\n",
       " '留下',\n",
       " '了',\n",
       " '1800',\n",
       " '多',\n",
       " '首',\n",
       " '小',\n",
       " '诗',\n",
       " '，',\n",
       " '这些',\n",
       " '小',\n",
       " '诗',\n",
       " '见证',\n",
       " '着',\n",
       " '他们',\n",
       " '的',\n",
       " '爱情',\n",
       " '一天天',\n",
       " '成长',\n",
       " '。',\n",
       " '爱',\n",
       " '在',\n",
       " '实验室',\n",
       " '，',\n",
       " '浪漫',\n",
       " '也',\n",
       " '未',\n",
       " '缺',\n",
       " '张',\n",
       " '瑶',\n",
       " '佳',\n",
       " '凭借',\n",
       " '优异',\n",
       " '的',\n",
       " '成绩',\n",
       " '获得',\n",
       " '了',\n",
       " '直博',\n",
       " '的',\n",
       " '资格',\n",
       " '，',\n",
       " '徐',\n",
       " '智',\n",
       " '成为',\n",
       " '了',\n",
       " '能',\n",
       " '赶上',\n",
       " '女友',\n",
       " '的',\n",
       " '脚步',\n",
       " '，',\n",
       " '多',\n",
       " '陪',\n",
       " '她',\n",
       " '几',\n",
       " '年',\n",
       " '，',\n",
       " '大',\n",
       " '三',\n",
       " '一',\n",
       " '年',\n",
       " '辛苦',\n",
       " '复习',\n",
       " '，',\n",
       " '终于',\n",
       " '考上',\n",
       " '了',\n",
       " '南航',\n",
       " '的',\n",
       " '研究生',\n",
       " '。',\n",
       " '研究生',\n",
       " '与',\n",
       " '博士生',\n",
       " '的',\n",
       " '恋爱',\n",
       " '，',\n",
       " '自然',\n",
       " '不',\n",
       " '能',\n",
       " '像',\n",
       " '普通',\n",
       " '情侣',\n",
       " '一样',\n",
       " '花前',\n",
       " '月',\n",
       " '下',\n",
       " '消',\n",
       " '磨',\n",
       " '时间',\n",
       " '。',\n",
       " '没有',\n",
       " '课',\n",
       " '后',\n",
       " '的',\n",
       " '电影',\n",
       " '，',\n",
       " '缺少',\n",
       " '周末',\n",
       " '的',\n",
       " '约会',\n",
       " '，',\n",
       " '他们',\n",
       " '有的',\n",
       " '只',\n",
       " '是',\n",
       " '实验室',\n",
       " '里',\n",
       " '的',\n",
       " '相互',\n",
       " '陪伴',\n",
       " '，',\n",
       " '可是',\n",
       " '张',\n",
       " '瑶',\n",
       " '佳',\n",
       " '却',\n",
       " '甘',\n",
       " '之',\n",
       " '如饴',\n",
       " '，“',\n",
       " '我',\n",
       " '的',\n",
       " '所有',\n",
       " '软件',\n",
       " '都',\n",
       " '是',\n",
       " '他',\n",
       " '给',\n",
       " '我装',\n",
       " '的',\n",
       " '，',\n",
       " '很多',\n",
       " '文献',\n",
       " '资料',\n",
       " '都',\n",
       " '是',\n",
       " '他',\n",
       " '给',\n",
       " '我',\n",
       " '找到',\n",
       " '和',\n",
       " '翻译',\n",
       " '的',\n",
       " '，',\n",
       " '笨重',\n",
       " '的',\n",
       " '工作台',\n",
       " '也',\n",
       " '都',\n",
       " '是',\n",
       " '他',\n",
       " '给',\n",
       " '我装',\n",
       " '好',\n",
       " '的',\n",
       " '。',\n",
       " '我们',\n",
       " '走',\n",
       " '在',\n",
       " '路上',\n",
       " '，',\n",
       " '吃饭',\n",
       " '时',\n",
       " '，',\n",
       " '都',\n",
       " '会',\n",
       " '一起',\n",
       " '讨论',\n",
       " '问题',\n",
       " '，',\n",
       " '对',\n",
       " '我',\n",
       " '来说',\n",
       " '这',\n",
       " '就',\n",
       " '是',\n",
       " '浪漫',\n",
       " '啊',\n",
       " '！”',\n",
       " '作为',\n",
       " '博士生',\n",
       " '，',\n",
       " '张',\n",
       " '瑶佳',\n",
       " '的',\n",
       " '科研',\n",
       " '任务',\n",
       " '要',\n",
       " '重',\n",
       " '一些',\n",
       " '，',\n",
       " '为了',\n",
       " '能',\n",
       " '让',\n",
       " '她',\n",
       " '更',\n",
       " '多',\n",
       " '时间',\n",
       " '花',\n",
       " '在',\n",
       " '科研',\n",
       " '上',\n",
       " '，',\n",
       " '徐',\n",
       " '智',\n",
       " '成',\n",
       " '承包',\n",
       " '了',\n",
       " '很多',\n",
       " '生活',\n",
       " '上',\n",
       " '的',\n",
       " '琐事',\n",
       " '，',\n",
       " '他',\n",
       " '说',\n",
       " '：“',\n",
       " '她',\n",
       " '有',\n",
       " '时候',\n",
       " '开会',\n",
       " '很',\n",
       " '晚',\n",
       " '或者',\n",
       " '我',\n",
       " '有事',\n",
       " '出去',\n",
       " '，',\n",
       " '我',\n",
       " '会',\n",
       " '提前',\n",
       " '买',\n",
       " '好',\n",
       " '饭',\n",
       " '给',\n",
       " '她',\n",
       " '带',\n",
       " '到',\n",
       " '实验室',\n",
       " '。',\n",
       " '每天',\n",
       " '都',\n",
       " '从',\n",
       " '博园',\n",
       " '接',\n",
       " '送',\n",
       " '到',\n",
       " '实验室',\n",
       " '，',\n",
       " '不论',\n",
       " '多',\n",
       " '早',\n",
       " '或',\n",
       " '多',\n",
       " '晚',\n",
       " '。',\n",
       " '放假',\n",
       " '的',\n",
       " '时候',\n",
       " '，',\n",
       " '都',\n",
       " '会',\n",
       " '去',\n",
       " '车站',\n",
       " '接送',\n",
       " '。”',\n",
       " '无',\n",
       " '人',\n",
       " '机',\n",
       " '求婚',\n",
       " '，',\n",
       " '用',\n",
       " '诗词',\n",
       " '表',\n",
       " '白',\n",
       " '为了',\n",
       " '在',\n",
       " '毕业',\n",
       " '前能',\n",
       " '实现',\n",
       " '求婚',\n",
       " '，',\n",
       " '徐',\n",
       " '智成',\n",
       " '从',\n",
       " '寒假',\n",
       " '就',\n",
       " '开始',\n",
       " '策划',\n",
       " '求婚',\n",
       " '计划',\n",
       " '，',\n",
       " '他查',\n",
       " '了',\n",
       " '很多',\n",
       " '求婚',\n",
       " '的',\n",
       " '例子',\n",
       " '，',\n",
       " '但',\n",
       " '都',\n",
       " '觉得',\n",
       " '很俗',\n",
       " '套',\n",
       " '。',\n",
       " '他',\n",
       " '想',\n",
       " '，',\n",
       " '他们',\n",
       " '是',\n",
       " '相识',\n",
       " '于',\n",
       " '南航',\n",
       " '，',\n",
       " '相',\n",
       " '爱于',\n",
       " '南航',\n",
       " '，',\n",
       " '成长',\n",
       " '于',\n",
       " '南航',\n",
       " '，',\n",
       " '求婚',\n",
       " '也',\n",
       " '一定',\n",
       " '要',\n",
       " '契合学',\n",
       " '校',\n",
       " '浓厚',\n",
       " '的',\n",
       " '航空',\n",
       " '航天',\n",
       " '氛围',\n",
       " '，',\n",
       " '他',\n",
       " '决定',\n",
       " '采用',\n",
       " '无',\n",
       " '人',\n",
       " '机',\n",
       " '求婚',\n",
       " '，',\n",
       " '正巧',\n",
       " '他',\n",
       " '自动化',\n",
       " '专业',\n",
       " '的',\n",
       " '同学',\n",
       " '正在',\n",
       " '研究',\n",
       " '无',\n",
       " '人机',\n",
       " '项目',\n",
       " '。',\n",
       " '最后',\n",
       " '，',\n",
       " '他',\n",
       " '决定',\n",
       " '结合',\n",
       " '南航',\n",
       " '的',\n",
       " '校园',\n",
       " '文化',\n",
       " '，',\n",
       " '使用',\n",
       " '同学',\n",
       " '亲自',\n",
       " '研制',\n",
       " '的',\n",
       " '无人',\n",
       " '机',\n",
       " '求婚',\n",
       " '，',\n",
       " '当然',\n",
       " '还有',\n",
       " '精心',\n",
       " '准备',\n",
       " '的',\n",
       " '求婚',\n",
       " '气球',\n",
       " '和',\n",
       " '诗词',\n",
       " '表',\n",
       " '白',\n",
       " '。',\n",
       " '写',\n",
       " '1800',\n",
       " '首',\n",
       " '诗',\n",
       " '求婚',\n",
       " '无',\n",
       " '人',\n",
       " '机',\n",
       " '带',\n",
       " '着',\n",
       " '钻戒',\n",
       " '求婚',\n",
       " '当',\n",
       " '他们',\n",
       " '到达',\n",
       " '求婚',\n",
       " '现场',\n",
       " '，',\n",
       " '张',\n",
       " '瑶',\n",
       " '佳',\n",
       " '看到',\n",
       " '学院',\n",
       " '楼',\n",
       " '前',\n",
       " '的',\n",
       " '求婚',\n",
       " '气球',\n",
       " '，',\n",
       " '在',\n",
       " '11',\n",
       " '位',\n",
       " '朋友',\n",
       " '念',\n",
       " '出',\n",
       " '的',\n",
       " '诗词',\n",
       " '表',\n",
       " '白',\n",
       " '中',\n",
       " '，',\n",
       " '流下',\n",
       " '了',\n",
       " '幸福',\n",
       " '的',\n",
       " '眼泪',\n",
       " '。',\n",
       " '而',\n",
       " '当',\n",
       " '无',\n",
       " '人',\n",
       " '机',\n",
       " '带',\n",
       " '着',\n",
       " '钻戒',\n",
       " '缓缓',\n",
       " '降落',\n",
       " '，',\n",
       " '心里',\n",
       " '更是',\n",
       " '感动',\n",
       " '不已',\n",
       " '：“',\n",
       " '这',\n",
       " '就',\n",
       " '是',\n",
       " '我',\n",
       " '想',\n",
       " '要',\n",
       " '的',\n",
       " '！”',\n",
       " '她',\n",
       " '告诉',\n",
       " '记者',\n",
       " '，',\n",
       " '由于',\n",
       " '自己',\n",
       " '心中',\n",
       " '一直',\n",
       " '有',\n",
       " '一个',\n",
       " '航空',\n",
       " '航天',\n",
       " '的',\n",
       " '梦想',\n",
       " '，',\n",
       " '所以',\n",
       " '报考',\n",
       " '了',\n",
       " '南航',\n",
       " '，',\n",
       " '男',\n",
       " '友',\n",
       " '使用',\n",
       " '无',\n",
       " '人',\n",
       " '机',\n",
       " '求婚',\n",
       " '非常',\n",
       " '打动',\n",
       " '她',\n",
       " '。',\n",
       " '下周',\n",
       " '徐',\n",
       " '智',\n",
       " '成就',\n",
       " '要',\n",
       " '正式',\n",
       " '入',\n",
       " '职',\n",
       " '了',\n",
       " '，',\n",
       " '为了',\n",
       " '能够',\n",
       " '陪',\n",
       " '在',\n",
       " '女友',\n",
       " '身边',\n",
       " '，',\n",
       " '他',\n",
       " '放弃',\n",
       " '了',\n",
       " '上海',\n",
       " '、',\n",
       " '杭州',\n",
       " '等',\n",
       " '城市',\n",
       " '大',\n",
       " '公司',\n",
       " '的',\n",
       " 'offer，',\n",
       " '选择',\n",
       " '留',\n",
       " '在',\n",
       " '了',\n",
       " '南京',\n",
       " '。',\n",
       " '张',\n",
       " '瑶',\n",
       " '佳',\n",
       " '觉得',\n",
       " '有些',\n",
       " '可惜',\n",
       " '，',\n",
       " '但',\n",
       " '徐',\n",
       " '智',\n",
       " '成',\n",
       " '却',\n",
       " '无怨无悔',\n",
       " '，“',\n",
       " '或许',\n",
       " '放弃',\n",
       " '了',\n",
       " '一些',\n",
       " '，',\n",
       " '才',\n",
       " '会',\n",
       " '得到',\n",
       " '更',\n",
       " '多',\n",
       " '。”']"
      ]
     },
     "execution_count": 87,
     "metadata": {},
     "output_type": "execute_result"
    }
   ],
   "source": [
    "s.words"
   ]
  },
  {
   "cell_type": "code",
   "execution_count": 88,
   "metadata": {
    "collapsed": false
   },
   "outputs": [
    {
     "data": {
      "text/plain": [
       "['用1800首诗表白',\n",
       " '用无人机求婚 南航学霸上演浪漫“求婚大作战”',\n",
       " '3月28号下午',\n",
       " '一次求婚大作战在南京航空航天大学师生的朋友圈刷屏了',\n",
       " '在朝夕相处的实验楼下',\n",
       " '伴着好友老师的祝福和数百校友的助阵',\n",
       " '南航自动化学院即将毕业的硕士研究生徐智成用无人机向相恋1896天的女友张瑶佳成功求婚',\n",
       " '而徐智成坚持了5年的写诗表白在南航早已传为佳话',\n",
       " '与君初相识',\n",
       " '诗词抒情意',\n",
       " '刷屏的求婚故事男主角是南航自动化学院的徐智成',\n",
       " '女主角则是自动化学院的博士生张瑶佳',\n",
       " '徐智成告诉记者',\n",
       " '本科同在一个班级的他们刚开始并不相熟',\n",
       " '张瑶佳是班里的学霸',\n",
       " '而他的学习却不出众',\n",
       " '徐智成还记得',\n",
       " '大一夏天',\n",
       " '张瑶佳偶然在他写的诗下评论了几句',\n",
       " '简单的几句却让他产生了共鸣',\n",
       " '心里对张瑶佳默默生出了好感',\n",
       " '“为了接近她',\n",
       " '我常常找各种学习问题向她请教',\n",
       " '我本来上课常坐教室后排的',\n",
       " '为了追她从此只坐在教室前排',\n",
       " '因为学习是她的追求',\n",
       " '志同方能道合',\n",
       " '”相知相守中',\n",
       " '徐智成终于渐渐俘获了张瑶佳的芳心',\n",
       " '大二放寒假的前一天',\n",
       " '徐智成向张瑶佳表白了',\n",
       " '“你喜欢读诗',\n",
       " '以后在一起的每一天我都会为你写一首诗',\n",
       " '”张瑶佳本以为这句话只是一时的浪漫',\n",
       " '没想到竟坚持到现在',\n",
       " '1800多天下来',\n",
       " '他们之间已经保留下了1800多首小诗',\n",
       " '这些小诗见证着他们的爱情一天天成长',\n",
       " '爱在实验室',\n",
       " '浪漫也未缺',\n",
       " '张瑶佳凭借优异的成绩获得了直博的资格',\n",
       " '徐智成为了能赶上女友的脚步',\n",
       " '多陪她几年',\n",
       " '大三一年辛苦复习',\n",
       " '终于考上了南航的研究生',\n",
       " '研究生与博士生的恋爱',\n",
       " '自然不能像普通情侣一样花前月下消磨时间',\n",
       " '没有课后的电影',\n",
       " '缺少周末的约会',\n",
       " '他们有的只是实验室里的相互陪伴',\n",
       " '可是张瑶佳却甘之如饴',\n",
       " '“我的所有软件都是他给我装的',\n",
       " '很多文献资料都是他给我找到和翻译的',\n",
       " '笨重的工作台也都是他给我装好的',\n",
       " '我们走在路上',\n",
       " '吃饭时',\n",
       " '都会一起讨论问题',\n",
       " '对我来说这就是浪漫啊',\n",
       " '”',\n",
       " '作为博士生',\n",
       " '张瑶佳的科研任务要重一些',\n",
       " '为了能让她更多时间花在科研上',\n",
       " '徐智成承包了很多生活上的琐事',\n",
       " '他说：“她有时候开会很晚或者我有事出去',\n",
       " '我会提前买好饭给她带到实验室',\n",
       " '每天都从博园接送到实验室',\n",
       " '不论多早或多晚',\n",
       " '放假的时候',\n",
       " '都会去车站接送',\n",
       " '”',\n",
       " '无人机求婚',\n",
       " '用诗词表白',\n",
       " '为了在毕业前能实现求婚',\n",
       " '徐智成从寒假就开始策划求婚计划',\n",
       " '他查了很多求婚的例子',\n",
       " '但都觉得很俗套',\n",
       " '他想',\n",
       " '他们是相识于南航',\n",
       " '相爱于南航',\n",
       " '成长于南航',\n",
       " '求婚也一定要契合学校浓厚的航空航天氛围',\n",
       " '他决定采用无人机求婚',\n",
       " '正巧他自动化专业的同学正在研究无人机项目',\n",
       " '最后',\n",
       " '他决定结合南航的校园文化',\n",
       " '使用同学亲自研制的无人机求婚',\n",
       " '当然还有精心准备的求婚气球和诗词表白',\n",
       " '写1800首诗求婚',\n",
       " '无人机带着钻戒求婚',\n",
       " '当他们到达求婚现场',\n",
       " '张瑶佳看到学院楼前的求婚气球',\n",
       " '在11位朋友念出的诗词表白中',\n",
       " '流下了幸福的眼泪',\n",
       " '而当无人机带着钻戒缓缓降落',\n",
       " '心里更是感动不已：“这就是我想要的',\n",
       " '”她告诉记者',\n",
       " '由于自己心中一直有一个航空航天的梦想',\n",
       " '所以报考了南航',\n",
       " '男友使用无人机求婚非常打动她',\n",
       " '下周徐智成就要正式入职了',\n",
       " '为了能够陪在女友身边',\n",
       " '他放弃了上海、杭州等城市大公司的offer',\n",
       " '选择留在了南京',\n",
       " '张瑶佳觉得有些可惜',\n",
       " '但徐智成却无怨无悔',\n",
       " '“或许放弃了一些',\n",
       " '才会得到更多',\n",
       " '”']"
      ]
     },
     "execution_count": 88,
     "metadata": {},
     "output_type": "execute_result"
    }
   ],
   "source": [
    "s.sentences"
   ]
  },
  {
   "cell_type": "code",
   "execution_count": null,
   "metadata": {
    "collapsed": true
   },
   "outputs": [],
   "source": [
    "snows=[ SnowNLP(para) for para in paras if not para.strip()==u'']\n",
    "sents=[snow.sentences for snow in snows]\n",
    "sents   #分句\n",
    "sents[0]\n",
    "sents[1]\n",
    "sents.__len__()\n",
    "snow=snows[0]\n",
    "dir(snow)  #snow是SnowNLP的实例"
   ]
  }
 ],
 "metadata": {
  "kernelspec": {
   "display_name": "Python 3",
   "language": "python",
   "name": "python3"
  },
  "language_info": {
   "codemirror_mode": {
    "name": "ipython",
    "version": 3
   },
   "file_extension": ".py",
   "mimetype": "text/x-python",
   "name": "python",
   "nbconvert_exporter": "python",
   "pygments_lexer": "ipython3",
   "version": "3.6.0"
  }
 },
 "nbformat": 4,
 "nbformat_minor": 2
}
